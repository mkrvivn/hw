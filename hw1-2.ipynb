{
 "cells": [
  {
   "cell_type": "code",
   "execution_count": 108,
   "metadata": {
    "collapsed": true
   },
   "outputs": [],
   "source": [
    "import bs4\n",
    "import requests\n",
    "from typing import List\n",
    "import pandas as pd\n",
    "import sqlite3 as db\n",
    "import os\n",
    "\n",
    "# Библиотечные функции для упрощения парсинга данных\n",
    "def get_house_list_url(offset: int, limit: int) -> str:\n",
    "    return 'https://xn--80az8a.xn--d1aqf.xn--p1ai/%D1%81%D0%B5%D1%80%D0%B2%D0%B8%D1%81%D1%8B/api/kn/object?offset={}&limit={}&sortField=devId.devShortCleanNm&sortType=asc&objStatus=0'.format(offset, limit)\n",
    "\n",
    "def get_house_info_url(id: int) -> str:\n",
    "    return 'https://xn--80az8a.xn--d1aqf.xn--p1ai/%D1%81%D0%B5%D1%80%D0%B2%D0%B8%D1%81%D1%8B/api/object/{}'.format(id)\n",
    "\n",
    "def get_number_of_houses() -> int:\n",
    "    return requests.get(get_house_list_url(0, 1)).json()['data']['total']\n",
    "\n",
    "def get_house_info(id: int) -> dict:\n",
    "    return requests.get(get_house_info_url(id)).json()\n",
    "\n",
    "def get_house_info_ids(offset: int, limit: int) -> List[int]:\n",
    "    return list(map(lambda x: x['objId'], requests.get(get_house_list_url(offset, limit)).json()['data']['list']))\n",
    "\n",
    "def percentage(current_number, total_number):\n",
    "    return (total_number / 100) * current_number\n",
    "\n",
    "def parse_house_info(list_request_size: int = 100, percent_of_all_houses: int = 100, initial_offset: int = 0) -> List[dict]:\n",
    "    total_number_of_houses = get_number_of_houses()\n",
    "    number_of_houses_to_parse = int((total_number_of_houses/100.0) * percent_of_all_houses)\n",
    "    print(\"houses will be parsed: {}\".format(number_of_houses_to_parse))\n",
    "    offset = initial_offset\n",
    "    house_infos: List[dict] = []\n",
    "    while offset < number_of_houses_to_parse:\n",
    "        print(\"downloading {}%\".format(percentage(offset, number_of_houses_to_parse)))\n",
    "        house_info_ids = get_house_info_ids(offset, list_request_size)\n",
    "        for id in house_info_ids:\n",
    "            house_infos.append(get_house_info(id))\n",
    "        offset += list_request_size\n",
    "    print(\"downloading 100%\")\n",
    "    return house_infos\n",
    "\n",
    "# На вход принимает массив возвращаемый функцией parse_house_info\n",
    "def download_history_images(house_infos):\n",
    "    for house_index, house_info in enumerate(house_infos):\n",
    "        print(f\"Обрабатываем дом: {house_index+1}/{len(house_infos)}\")\n",
    "        house_id = house_info['data']['id']\n",
    "        r = requests.get(\"https://xn--80az8a.xn--d1aqf.xn--p1ai/%D1%81%D0%B5%D1%80%D0%B2%D0%B8%D1%81%D1%8B/%D0%BA%D0%B0%D1%82%D0%B0%D0%BB%D0%BE%D0%B3-%D0%BD%D0%BE%D0%B2%D0%BE%D1%81%D1%82%D1%80%D0%BE%D0%B5%D0%BA/%D0%BE%D0%B1%D1%8A%D0%B5%D0%BA%D1%82/{}\".format(house_id))\n",
    "        soup = bs4.BeautifulSoup(r.text, 'html.parser')\n",
    "        images = soup.findAll('img')\n",
    "        images = list(map(lambda i: i.get(\"src\"), images))\n",
    "        images = list(filter(lambda i: 'filename=' in i, images))\n",
    "        image_dir = \"./images/{}\".format(house_id)\n",
    "        if len(images) > 0 and not os.path.exists(image_dir):\n",
    "            os.makedirs(image_dir)\n",
    "        for index, image_url in enumerate(images):\n",
    "            print(f\"Скачиваем изображение: {index+1}/{len(images)}\")\n",
    "            image_bytes = requests.get(image_url).content\n",
    "            if image_bytes:\n",
    "                image_name = image_url.split('filename=')[-1]\n",
    "                with open(f\"{image_dir}/{index+1}-{image_name}\", \"wb\") as file:\n",
    "                    file.write(image_bytes)\n",
    "\n"
   ]
  },
  {
   "cell_type": "code",
   "execution_count": 109,
   "outputs": [
    {
     "name": "stdout",
     "output_type": "stream",
     "text": [
      "houses will be parsed: 100\n",
      "downloading 0.0%\n",
      "downloading 10.0%\n",
      "downloading 20.0%\n",
      "downloading 30.0%\n",
      "downloading 40.0%\n",
      "downloading 50.0%\n",
      "downloading 60.0%\n",
      "downloading 70.0%\n",
      "downloading 80.0%\n",
      "downloading 90.0%\n",
      "downloading 100%\n"
     ]
    }
   ],
   "source": [
    "house_infos = parse_house_info(10, 1, 0)"
   ],
   "metadata": {
    "collapsed": false,
    "pycharm": {
     "name": "#%%\n"
    }
   }
  },
  {
   "cell_type": "code",
   "execution_count": 110,
   "outputs": [
    {
     "name": "stdout",
     "output_type": "stream",
     "text": [
      "100\n",
      "{'data': {'id': 13391, 'pdId': 28101, 'developer': {'devId': 306, 'devShortCleanNm': '2МЕН ГРУПП', 'devShortNm': '2МЕН ГРУПП', 'devFullCleanNm': '2МЕН ГРУПП', 'problObjCnt': 0, 'buildObjCnt': 5, 'comissObjCnt': 0, 'regRegionDesc': 'Тюменская область', 'devPhoneNum': '+7(345)279-18-88', 'devSite': '2mengroup.ru', 'devEmail': 'info@2mengroup.ru', 'devInn': '7701651356', 'devOgrn': '1067746424899', 'devKpp': '720301001', 'devLegalAddr': 'Тюменская область, город Тюмень, улица Комсомольская дом 75/5', 'devFactAddr': 'Тюменская область, город Тюмень, улица Комсомольская 75/5', 'lastRpdId': 585074, 'fundGuarantyFlg': 1, 'devOrgRegRegionCd': 72, 'devEmplMainFullNm': 'Киселев Сергей Михайлович', 'developerGroupName': '2МЕН ГРУПП ДЕВЕЛОПМЕНТ', 'orgForm': {'id': 1, 'fullForm': 'Акционерное общество', 'shortForm': 'АО'}, 'companyGroupId': 699421001, 'objGuarantyEscrowFlg': 0, 'govFundFlg': 0}, 'region': 72, 'address': 'г Тюмень, ул Профсоюзная', 'floorMin': 3, 'floorMax': 12, 'objElemLivingCnt': 44, 'objReady100PercDt': '2022-06-30', 'wallMaterialShortDesc': 'Другое', 'objLkFinishTypeDesc': 'По желанию заказчика', 'objLkFreePlanDesc': 'Есть', 'objElemParkingCnt': 41, 'objSquareLiving': 4293.67, 'rpdNum': '72-000096', 'rpdPdfLink': 'https://xn--80az8a.xn--d1aqf.xn--p1ai/api/ext/file/014fb813-6b4d-4377-8781-78b566f1f9ab', 'rpdIssueDttm': '29-04-2022 13:16', 'objLkLatitude': '57.1541', 'objLkLongitude': '65.5595', 'objCompensFundFlg': 1, 'objProblemFlg': 0, 'objLkClassDesc': 'Элитный', 'loadDttm': '04-05-2022 01:13', 'photoRenderDTO': [{'objId': 13391, 'pdId': 28101, 'rpdId': 585071, 'devId': 306, 'ordNum': 1, 'objRenderPhotoSize': 310482, 'objRenderPhotoUrl': 'https://xn--80az8a.xn--d1aqf.xn--p1ai/api/ext/file/1eca0ffa-fb5f-4b30-a239-632c4c79ecd2', 'objRenderPhotoDttm': '19-08-2020 15:59', 'objRenderPhotoHiddenFlg': 0, 'objRenderPhotoNm': 'IMG_6313_2.JPG', 'objReadyDesc': 'Строится', 'objBuildTypeShortDesc': 'Жилое', 'knFlg': 1, 'loadDttm': '04-05-2022 00:57'}, {'objId': 13391, 'pdId': 28101, 'rpdId': 585071, 'devId': 306, 'ordNum': 2, 'objRenderPhotoSize': 1014913, 'objRenderPhotoUrl': 'https://xn--80az8a.xn--d1aqf.xn--p1ai/api/ext/file/a7d88189-046a-49bb-834a-d1745b751eec', 'objRenderPhotoDttm': '12-05-2021 16:55', 'objRenderPhotoHiddenFlg': 0, 'objRenderPhotoNm': 'IMG_20210512_094028.jpg', 'objReadyDesc': 'Строится', 'objBuildTypeShortDesc': 'Жилое', 'knFlg': 1, 'loadDttm': '04-05-2022 00:57'}, {'objId': 13391, 'pdId': 28101, 'rpdId': 585071, 'devId': 306, 'ordNum': 3, 'objRenderPhotoSize': 1034514, 'objRenderPhotoUrl': 'https://xn--80az8a.xn--d1aqf.xn--p1ai/api/ext/file/b62e21ec-606d-40a9-8859-39a6e163a3f0', 'objRenderPhotoDttm': '12-05-2021 16:55', 'objRenderPhotoHiddenFlg': 0, 'objRenderPhotoNm': 'IMG_20210512_0941051.jpg', 'objReadyDesc': 'Строится', 'objBuildTypeShortDesc': 'Жилое', 'knFlg': 1, 'loadDttm': '04-05-2022 00:57'}, {'objId': 13391, 'pdId': 28101, 'rpdId': 585071, 'devId': 306, 'ordNum': 4, 'objRenderPhotoSize': 1085274, 'objRenderPhotoUrl': 'https://xn--80az8a.xn--d1aqf.xn--p1ai/api/ext/file/81ceec28-f574-4b2c-a5d0-59bcfef0e332', 'objRenderPhotoDttm': '12-05-2021 16:55', 'objRenderPhotoHiddenFlg': 0, 'objRenderPhotoNm': 'IMG_20210512_0941072.jpg', 'objReadyDesc': 'Строится', 'objBuildTypeShortDesc': 'Жилое', 'knFlg': 1, 'loadDttm': '04-05-2022 00:57'}, {'objId': 13391, 'pdId': 28101, 'rpdId': 585071, 'devId': 306, 'ordNum': 5, 'objRenderPhotoSize': 1002935, 'objRenderPhotoUrl': 'https://xn--80az8a.xn--d1aqf.xn--p1ai/api/ext/file/95643167-b78b-4483-bd01-aa52b7515917', 'objRenderPhotoDttm': '12-05-2021 16:55', 'objRenderPhotoHiddenFlg': 0, 'objRenderPhotoNm': 'IMG_20210512_0941263.jpg', 'objReadyDesc': 'Строится', 'objBuildTypeShortDesc': 'Жилое', 'knFlg': 1, 'loadDttm': '04-05-2022 00:57'}, {'objId': 13391, 'pdId': 28101, 'rpdId': 585071, 'devId': 306, 'ordNum': 6, 'objRenderPhotoSize': 1095487, 'objRenderPhotoUrl': 'https://xn--80az8a.xn--d1aqf.xn--p1ai/api/ext/file/c6e3d62e-6586-4e95-b5d8-c451e705c529', 'objRenderPhotoDttm': '12-05-2021 16:55', 'objRenderPhotoHiddenFlg': 0, 'objRenderPhotoNm': 'IMG_20210512_0941284.jpg', 'objReadyDesc': 'Строится', 'objBuildTypeShortDesc': 'Жилое', 'knFlg': 1, 'loadDttm': '04-05-2022 00:57'}, {'objId': 13391, 'pdId': 28101, 'rpdId': 585071, 'devId': 306, 'ordNum': 7, 'objRenderPhotoSize': 1337567, 'objRenderPhotoUrl': 'https://xn--80az8a.xn--d1aqf.xn--p1ai/api/ext/file/af008ae4-ea45-430a-a87f-d7bb257d8abf', 'objRenderPhotoDttm': '12-05-2021 16:55', 'objRenderPhotoHiddenFlg': 0, 'objRenderPhotoNm': 'IMG_20210512_0943295.jpg', 'objReadyDesc': 'Строится', 'objBuildTypeShortDesc': 'Жилое', 'knFlg': 1, 'loadDttm': '04-05-2022 00:57'}, {'objId': 13391, 'pdId': 28101, 'rpdId': 585071, 'devId': 306, 'ordNum': 8, 'objRenderPhotoSize': 1597778, 'objRenderPhotoUrl': 'https://xn--80az8a.xn--d1aqf.xn--p1ai/api/ext/file/c4ae6be4-0f10-4d39-a8eb-5177a8d0100a', 'objRenderPhotoDttm': '12-05-2021 16:55', 'objRenderPhotoHiddenFlg': 0, 'objRenderPhotoNm': 'IMG_20210512_0943396.jpg', 'objReadyDesc': 'Строится', 'objBuildTypeShortDesc': 'Жилое', 'knFlg': 1, 'loadDttm': '04-05-2022 00:57'}, {'objId': 13391, 'pdId': 28101, 'rpdId': 585071, 'devId': 306, 'ordNum': 9, 'objRenderPhotoSize': 1451331, 'objRenderPhotoUrl': 'https://xn--80az8a.xn--d1aqf.xn--p1ai/api/ext/file/21bf93c1-e73f-4279-b24d-ec691f60df7f', 'objRenderPhotoDttm': '12-05-2021 16:55', 'objRenderPhotoHiddenFlg': 0, 'objRenderPhotoNm': 'IMG_20210512_0943597.jpg', 'objReadyDesc': 'Строится', 'objBuildTypeShortDesc': 'Жилое', 'knFlg': 1, 'loadDttm': '04-05-2022 00:57'}, {'objId': 13391, 'pdId': 28101, 'rpdId': 585071, 'devId': 306, 'ordNum': 10, 'objRenderPhotoSize': 1454350, 'objRenderPhotoUrl': 'https://xn--80az8a.xn--d1aqf.xn--p1ai/api/ext/file/90f5ba53-f778-4054-bebc-50b250f3bc05', 'objRenderPhotoDttm': '12-05-2021 16:55', 'objRenderPhotoHiddenFlg': 0, 'objRenderPhotoNm': 'IMG_20210512_0944008.jpg', 'objReadyDesc': 'Строится', 'objBuildTypeShortDesc': 'Жилое', 'knFlg': 1, 'loadDttm': '04-05-2022 00:57'}, {'objId': 13391, 'pdId': 28101, 'rpdId': 585071, 'devId': 306, 'ordNum': 11, 'objRenderPhotoSize': 1067769, 'objRenderPhotoUrl': 'https://xn--80az8a.xn--d1aqf.xn--p1ai/api/ext/file/3553f4ec-8d7e-4303-ba25-3ec6f03bfe39', 'objRenderPhotoDttm': '12-05-2021 16:55', 'objRenderPhotoHiddenFlg': 0, 'objRenderPhotoNm': 'IMG_20210512_0944249.jpg', 'objReadyDesc': 'Строится', 'objBuildTypeShortDesc': 'Жилое', 'knFlg': 1, 'loadDttm': '04-05-2022 00:57'}], 'objGuarantyEscrowFlg': 0, 'objectType': 'normal', 'miniUrl': 'https://xn--80az8a.xn--d1aqf.xn--p1ai/api/ext/file/09ff8156-bcbb-4033-a36a-dd45abd0b430', 'residentialBuildings': 1, 'newBuildingId': 37219, 'objFloorCnt': 12, 'objFlatCnt': 44, 'objFlatSq': '4293.67', 'objNonlivElemCnt': 26, 'quartography': {'objLivElem1KCnt': 11, 'objLivElem2KCnt': 16, 'objLivElem3KCnt': 12, 'objLivElem4KCnt': 5, 'objLivElemCnt': 44, 'objLivElemEntrCnt': 2, 'objLivElemEntrFloorAvg': 4}, 'objStatus': 0, 'isAvailableWantLiveHere': True, 'objTransferPlanDt': '30-08-2022 12:00', 'objLivCeilingHeight': '2,8', 'objInfrstrBicycleLaneFlg': 0, 'objInfrstrPlaygrndCnt': 1, 'objInfrstrSportGroundCnt': 1, 'objInfrstrTrashAreaCnt': 1, 'objInfrstrObjPrkngCnt': 0, 'objInfrstrNotObjPrkngCnt': 9, 'objInfrstrRampFlg': 1, 'objInfrstrCurbLoweringFlg': 1, 'objElevatorWheelchairCnt': 0, 'objElevatorPassengerCnt': 2, 'objElevatorCargoCnt': 2, 'soldOutPerc': 0.451017427981191, 'objPriceAvg': 55893, 'generalContractorNm': 'ООО Транспромжилстрой-2005 (ИНН: 7204097730)', 'nonlivFirstFloor': 1, 'objectTransportInfo': [], 'conclusion': False, 'objLkSaleDepEmail': 'info@2mengroup.ru', 'objGreenHouseFlg': 0, 'objEnergyEffShortDesc': 'B', 'infrastructureIndexValue': 9}, 'errcode': '0'}\n"
     ]
    }
   ],
   "source": [
    "print(len(house_infos))\n",
    "print(house_infos[0])"
   ],
   "metadata": {
    "collapsed": false,
    "pycharm": {
     "name": "#%%\n"
    }
   }
  },
  {
   "cell_type": "code",
   "execution_count": 111,
   "outputs": [],
   "source": [
    "df = pd.json_normalize(house_infos)"
   ],
   "metadata": {
    "collapsed": false,
    "pycharm": {
     "name": "#%%\n"
    }
   }
  },
  {
   "cell_type": "code",
   "execution_count": 112,
   "outputs": [],
   "source": [
    "df.to_excel(\"nash_dom.xlsx\")\n",
    "df.to_pickle(\"nash_dom.pkl\")"
   ],
   "metadata": {
    "collapsed": false,
    "pycharm": {
     "name": "#%%\n"
    }
   }
  },
  {
   "cell_type": "code",
   "execution_count": 113,
   "outputs": [
    {
     "data": {
      "text/plain": "100"
     },
     "execution_count": 113,
     "metadata": {},
     "output_type": "execute_result"
    }
   ],
   "source": [
    "df.drop(df.columns[[50, 86, 99]], axis=1, inplace=True)\n",
    "con = db.connect('nash_dom.db')\n",
    "df.to_sql(name='nash_dom', if_exists='replace', con=con)"
   ],
   "metadata": {
    "collapsed": false,
    "pycharm": {
     "name": "#%%\n"
    }
   }
  },
  {
   "cell_type": "code",
   "execution_count": 115,
   "outputs": [
    {
     "name": "stdout",
     "output_type": "stream",
     "text": [
      "Обрабатываем дом: 1/2\n",
      "Скачиваем изображение: 1/29\n",
      "Скачиваем изображение: 2/29\n",
      "Скачиваем изображение: 3/29\n",
      "Скачиваем изображение: 4/29\n",
      "Скачиваем изображение: 5/29\n",
      "Скачиваем изображение: 6/29\n",
      "Скачиваем изображение: 7/29\n",
      "Скачиваем изображение: 8/29\n",
      "Скачиваем изображение: 9/29\n",
      "Скачиваем изображение: 10/29\n",
      "Скачиваем изображение: 11/29\n",
      "Скачиваем изображение: 12/29\n",
      "Скачиваем изображение: 13/29\n",
      "Скачиваем изображение: 14/29\n",
      "Скачиваем изображение: 15/29\n",
      "Скачиваем изображение: 16/29\n",
      "Скачиваем изображение: 17/29\n",
      "Скачиваем изображение: 18/29\n",
      "Скачиваем изображение: 19/29\n",
      "Скачиваем изображение: 20/29\n",
      "Скачиваем изображение: 21/29\n",
      "Скачиваем изображение: 22/29\n",
      "Скачиваем изображение: 23/29\n",
      "Скачиваем изображение: 24/29\n",
      "Скачиваем изображение: 25/29\n",
      "Скачиваем изображение: 26/29\n",
      "Скачиваем изображение: 27/29\n",
      "Скачиваем изображение: 28/29\n",
      "Скачиваем изображение: 29/29\n",
      "Обрабатываем дом: 2/2\n",
      "Скачиваем изображение: 1/28\n",
      "Скачиваем изображение: 2/28\n",
      "Скачиваем изображение: 3/28\n",
      "Скачиваем изображение: 4/28\n",
      "Скачиваем изображение: 5/28\n",
      "Скачиваем изображение: 6/28\n",
      "Скачиваем изображение: 7/28\n",
      "Скачиваем изображение: 8/28\n",
      "Скачиваем изображение: 9/28\n",
      "Скачиваем изображение: 10/28\n",
      "Скачиваем изображение: 11/28\n",
      "Скачиваем изображение: 12/28\n",
      "Скачиваем изображение: 13/28\n",
      "Скачиваем изображение: 14/28\n",
      "Скачиваем изображение: 15/28\n",
      "Скачиваем изображение: 16/28\n",
      "Скачиваем изображение: 17/28\n",
      "Скачиваем изображение: 18/28\n",
      "Скачиваем изображение: 19/28\n",
      "Скачиваем изображение: 20/28\n",
      "Скачиваем изображение: 21/28\n",
      "Скачиваем изображение: 22/28\n",
      "Скачиваем изображение: 23/28\n",
      "Скачиваем изображение: 24/28\n",
      "Скачиваем изображение: 25/28\n",
      "Скачиваем изображение: 26/28\n",
      "Скачиваем изображение: 27/28\n",
      "Скачиваем изображение: 28/28\n",
      "Обрабатываем дом: 3/2\n",
      "Скачиваем изображение: 1/26\n",
      "Скачиваем изображение: 2/26\n",
      "Скачиваем изображение: 3/26\n",
      "Скачиваем изображение: 4/26\n",
      "Скачиваем изображение: 5/26\n",
      "Скачиваем изображение: 6/26\n",
      "Скачиваем изображение: 7/26\n",
      "Скачиваем изображение: 8/26\n",
      "Скачиваем изображение: 9/26\n",
      "Скачиваем изображение: 10/26\n",
      "Скачиваем изображение: 11/26\n",
      "Скачиваем изображение: 12/26\n",
      "Скачиваем изображение: 13/26\n",
      "Скачиваем изображение: 14/26\n",
      "Скачиваем изображение: 15/26\n",
      "Скачиваем изображение: 16/26\n",
      "Скачиваем изображение: 17/26\n",
      "Скачиваем изображение: 18/26\n",
      "Скачиваем изображение: 19/26\n",
      "Скачиваем изображение: 20/26\n",
      "Скачиваем изображение: 21/26\n",
      "Скачиваем изображение: 22/26\n",
      "Скачиваем изображение: 23/26\n",
      "Скачиваем изображение: 24/26\n",
      "Скачиваем изображение: 25/26\n",
      "Скачиваем изображение: 26/26\n"
     ]
    }
   ],
   "source": [
    "download_history_images(house_infos[0:3])"
   ],
   "metadata": {
    "collapsed": false,
    "pycharm": {
     "name": "#%%\n"
    }
   }
  }
 ],
 "metadata": {
  "kernelspec": {
   "display_name": "Python 3",
   "language": "python",
   "name": "python3"
  },
  "language_info": {
   "codemirror_mode": {
    "name": "ipython",
    "version": 2
   },
   "file_extension": ".py",
   "mimetype": "text/x-python",
   "name": "python",
   "nbconvert_exporter": "python",
   "pygments_lexer": "ipython2",
   "version": "2.7.6"
  }
 },
 "nbformat": 4,
 "nbformat_minor": 0
}